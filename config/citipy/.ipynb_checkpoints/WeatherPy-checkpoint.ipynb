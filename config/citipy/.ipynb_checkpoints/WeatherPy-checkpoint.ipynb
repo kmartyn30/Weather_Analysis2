{
 "cells": [
  {
   "cell_type": "code",
   "execution_count": 1,
   "metadata": {},
   "outputs": [
    {
     "ename": "SyntaxError",
     "evalue": "invalid syntax (2696591628.py, line 38)",
     "output_type": "error",
     "traceback": [
      "\u001b[0;36m  Input \u001b[0;32mIn [1]\u001b[0;36m\u001b[0m\n\u001b[0;31m    of city not in cities;\u001b[0m\n\u001b[0m       ^\u001b[0m\n\u001b[0;31mSyntaxError\u001b[0m\u001b[0;31m:\u001b[0m invalid syntax\n"
     ]
    }
   ],
   "source": [
    "#Import the dependencies.\n",
    "from citipy import citipy\n",
    "import panda as pd\n",
    "import matplotlib.pyplot as plt\n",
    "import numpy as np\n",
    "import json\n",
    "import requests\n",
    "import timeit\n",
    "\n",
    "#Create a set of random latitude and longitude combinations. \n",
    "lats = np.random.uniform(low=-90.000, high=90.000, size=1500)\n",
    "lngs = np.random.uniform(low=-180.000, high=180.000,size=1500)\n",
    "\n",
    "#lat_lngs zip into list create a set of random latitudes and longitudes. \n",
    "lat_lngs = zip(lats,lngs)\n",
    "lat_lngs\n",
    "\n",
    "# Create a practice set of random latitude and longituted combinations. \n",
    "lats = [25.12903625, 25.92017388, 26.62509167,-59.9896938437,37.30571269]\n",
    "lngs = [-67.59741259, 11.09532135,74.84233102, -76.89176677,-61.13376282]\n",
    "lat_lngs = zip(lat_lngs)\n",
    "\n",
    "#Add the latitudes and longitutes to a list.\n",
    "coordinates = list(lat_lngs)\n",
    "\n",
    "# Use the print() fuction to display the latitude and longitude combinations. \n",
    "for coordinate in coordinates:\n",
    "    print(coordinate[0], coordinate[1])\n",
    "\n",
    "#create a list for holding the cities.\n",
    "cities = []\n",
    "\n",
    "#Identify the nearest city for each latitude and longtitude combination.\n",
    "for coordinate in coordinates:\n",
    "    city = citipy.nearest_city(coordinates[0],coordinate[1]).city_name\n",
    "\n",
    "    #IF the city is unique, then we will add to the cities list.\n",
    "    of city not in cities;\n",
    "       cities.append(city)\n",
    "       #Print the city count to confirl sufficient count. \n",
    "       len(cities)\n",
    "\n",
    "#Starting URL for Weather Map API CAll.\n",
    "url = \"http//api.openweathermap.org/data/2.5/weather?units=Imperial&APPID + weather_api_key\n",
    "print(url)\n",
    "\n",
    "\n",
    "\n",
    "\n",
    "\n",
    "#Get the following data information from API call: \n",
    "#latitude and longitude \n",
    "# maximum temperature\n",
    "#percent humidity\n",
    "#percent cloudiness\n",
    "#wind speed\n",
    "#Weather description (for example,                   )\n",
    "\n",
    "#Create an endpoint URL for a city\n",
    "city_url = +\"&q=\" + \"Boston\"\n",
    "print(city_url)\n",
    "print(request.get)(url).json()\n",
    "\n",
    "\n",
    "\n",
    "\n",
    "        \n",
    "#use the print() function to display the latitude and longitude combination. \n",
    "for coordinate in coordinates:\n",
    "    print(citipy.nearest_city(coordinate[0], coordinate[1].city_name,\n",
    "           citypy.nearest_city(coordinates[1].coordinates[1].country_code)\n",
    "\n",
    "        \n"
   ]
  },
  {
   "cell_type": "code",
   "execution_count": null,
   "metadata": {},
   "outputs": [],
   "source": []
  },
  {
   "cell_type": "code",
   "execution_count": null,
   "metadata": {},
   "outputs": [],
   "source": []
  }
 ],
 "metadata": {
  "kernelspec": {
   "display_name": "Python 3 (ipykernel)",
   "language": "python",
   "name": "python3"
  },
  "language_info": {
   "codemirror_mode": {
    "name": "ipython",
    "version": 3
   },
   "file_extension": ".py",
   "mimetype": "text/x-python",
   "name": "python",
   "nbconvert_exporter": "python",
   "pygments_lexer": "ipython3",
   "version": "3.9.12"
  },
  "vscode": {
   "interpreter": {
    "hash": "aee8b7b246df8f9039afb4144a1f6fd8d2ca17a180786b69acc140d282b71a49"
   }
  }
 },
 "nbformat": 4,
 "nbformat_minor": 2
}
